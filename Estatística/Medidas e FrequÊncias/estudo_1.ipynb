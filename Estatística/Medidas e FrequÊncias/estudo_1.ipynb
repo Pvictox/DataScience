{
 "cells": [
  {
   "cell_type": "code",
   "execution_count": 4,
   "metadata": {},
   "outputs": [],
   "source": [
    "import pandas as pd"
   ]
  },
  {
   "cell_type": "markdown",
   "metadata": {},
   "source": [
    "# Entendendo Base de dados\n",
    "\n",
    "Fonte de dados = IBGE<br>\n",
    "O que é = Pesquisa Nacional por Amostra de Domicílios - PNAD "
   ]
  },
  {
   "cell_type": "code",
   "execution_count": 5,
   "metadata": {},
   "outputs": [],
   "source": [
    "pnad_dtset = pd.read_csv(\"/home/pedro/Documents/DataScience/Estatística/Medidas e FrequÊncias/pnad_2015_clean.csv\")"
   ]
  },
  {
   "cell_type": "code",
   "execution_count": 6,
   "metadata": {},
   "outputs": [
    {
     "data": {
      "text/html": [
       "<div>\n",
       "<style scoped>\n",
       "    .dataframe tbody tr th:only-of-type {\n",
       "        vertical-align: middle;\n",
       "    }\n",
       "\n",
       "    .dataframe tbody tr th {\n",
       "        vertical-align: top;\n",
       "    }\n",
       "\n",
       "    .dataframe thead th {\n",
       "        text-align: right;\n",
       "    }\n",
       "</style>\n",
       "<table border=\"1\" class=\"dataframe\">\n",
       "  <thead>\n",
       "    <tr style=\"text-align: right;\">\n",
       "      <th></th>\n",
       "      <th>State</th>\n",
       "      <th>Sex</th>\n",
       "      <th>Age</th>\n",
       "      <th>Color</th>\n",
       "      <th>Years_of_study</th>\n",
       "      <th>Income</th>\n",
       "      <th>Height</th>\n",
       "    </tr>\n",
       "  </thead>\n",
       "  <tbody>\n",
       "    <tr>\n",
       "      <th>0</th>\n",
       "      <td>Rondônia</td>\n",
       "      <td>Male</td>\n",
       "      <td>23</td>\n",
       "      <td>Brown</td>\n",
       "      <td>11</td>\n",
       "      <td>800</td>\n",
       "      <td>1.60</td>\n",
       "    </tr>\n",
       "    <tr>\n",
       "      <th>1</th>\n",
       "      <td>Rondônia</td>\n",
       "      <td>Female</td>\n",
       "      <td>23</td>\n",
       "      <td>White</td>\n",
       "      <td>11</td>\n",
       "      <td>1150</td>\n",
       "      <td>1.74</td>\n",
       "    </tr>\n",
       "    <tr>\n",
       "      <th>2</th>\n",
       "      <td>Rondônia</td>\n",
       "      <td>Female</td>\n",
       "      <td>35</td>\n",
       "      <td>Brown</td>\n",
       "      <td>14</td>\n",
       "      <td>880</td>\n",
       "      <td>1.76</td>\n",
       "    </tr>\n",
       "    <tr>\n",
       "      <th>3</th>\n",
       "      <td>Rondônia</td>\n",
       "      <td>Male</td>\n",
       "      <td>46</td>\n",
       "      <td>White</td>\n",
       "      <td>5</td>\n",
       "      <td>3500</td>\n",
       "      <td>1.78</td>\n",
       "    </tr>\n",
       "    <tr>\n",
       "      <th>4</th>\n",
       "      <td>Rondônia</td>\n",
       "      <td>Female</td>\n",
       "      <td>47</td>\n",
       "      <td>Brown</td>\n",
       "      <td>8</td>\n",
       "      <td>150</td>\n",
       "      <td>1.69</td>\n",
       "    </tr>\n",
       "  </tbody>\n",
       "</table>\n",
       "</div>"
      ],
      "text/plain": [
       "      State     Sex  Age  Color  Years_of_study  Income  Height\n",
       "0  Rondônia    Male   23  Brown              11     800    1.60\n",
       "1  Rondônia  Female   23  White              11    1150    1.74\n",
       "2  Rondônia  Female   35  Brown              14     880    1.76\n",
       "3  Rondônia    Male   46  White               5    3500    1.78\n",
       "4  Rondônia  Female   47  Brown               8     150    1.69"
      ]
     },
     "execution_count": 6,
     "metadata": {},
     "output_type": "execute_result"
    }
   ],
   "source": [
    "pnad_dtset.head()"
   ]
  },
  {
   "cell_type": "code",
   "execution_count": 7,
   "metadata": {},
   "outputs": [
    {
     "data": {
      "text/plain": [
       "State             0\n",
       "Sex               0\n",
       "Age               0\n",
       "Color             0\n",
       "Years_of_study    0\n",
       "Income            0\n",
       "Height            0\n",
       "dtype: int64"
      ]
     },
     "execution_count": 7,
     "metadata": {},
     "output_type": "execute_result"
    }
   ],
   "source": [
    "pnad_dtset.isnull().sum()"
   ]
  },
  {
   "cell_type": "code",
   "execution_count": 8,
   "metadata": {},
   "outputs": [
    {
     "name": "stdout",
     "output_type": "stream",
     "text": [
      "State = ['Rondônia' 'Acre' 'Amazonas' 'Roraima' 'Pará' 'Amapá' 'Tocantins'\n",
      " 'Maranhão' 'Piauí' 'Ceará' 'Rio Grande do Norte' 'Paraíba' 'Pernambuco'\n",
      " 'Alagoas' 'Sergipe' 'Bahia' 'Minas Gerais' 'Espírito Santo'\n",
      " 'Rio de Janeiro' 'São Paulo' 'Paraná' 'Santa Catarina'\n",
      " 'Rio Grande do Sul' 'Mato Grosso do Sul' 'Mato Grosso' 'Goiás'\n",
      " 'Distrito Federal']\n",
      "Sex = ['Male' 'Female']\n",
      "Age = [23 35 46 47 34 57 60 50 26 49 52 38 45 43 53 62 69 41 25 33 44 65 32 30\n",
      " 64 31 63 40 28 37 39 36 73 56 27 42 51 29 24 55 67 66 61 54 48 80 79 71\n",
      " 59 19 22 77 58 17 72 70 18 21 20 68 74 76 75 84 85 78 15 82 95 13 83 81\n",
      " 87 88 16 91 92 97 89 90 86 94 14 99]\n",
      "Color = ['Brown' 'White' 'Black' 'Yellow' 'Indigenous']\n",
      "Years_of_study = [11 14  5  8 13 15  9  0  4  6  2  1  3  7 10 12]\n",
      "Income = [  800  1150   880 ... 36000  1329  5260]\n",
      "Height = [1.6  1.74 1.76 1.78 1.69 1.64 1.57 1.61 1.79 1.71 1.75 1.67 1.72 1.77\n",
      " 1.66 1.73 1.87 1.89 1.68 1.63 1.65 1.81 1.7  1.58 1.45 1.62 1.52 1.8\n",
      " 1.49 1.83 1.59 1.86 1.54 1.51 1.55 1.84 1.56 1.82 1.53 1.88 1.85 1.93\n",
      " 1.5  1.47 1.94 1.9  1.92 1.42 1.48 1.46 1.91 1.95 1.96 1.98 1.37 1.38\n",
      " 1.43 1.97 1.99 1.4  1.41 1.44 2.   1.39 2.02 1.34 2.03]\n"
     ]
    }
   ],
   "source": [
    "for column in pnad_dtset.columns:\n",
    "    print(f\"{column} = {pnad_dtset[column].unique()}\")"
   ]
  },
  {
   "cell_type": "code",
   "execution_count": 9,
   "metadata": {},
   "outputs": [
    {
     "name": "stdout",
     "output_type": "stream",
     "text": [
      "<class 'pandas.core.frame.DataFrame'>\n",
      "RangeIndex: 76840 entries, 0 to 76839\n",
      "Data columns (total 7 columns):\n",
      " #   Column          Non-Null Count  Dtype  \n",
      "---  ------          --------------  -----  \n",
      " 0   State           76840 non-null  object \n",
      " 1   Sex             76840 non-null  object \n",
      " 2   Age             76840 non-null  int64  \n",
      " 3   Color           76840 non-null  object \n",
      " 4   Years_of_study  76840 non-null  int64  \n",
      " 5   Income          76840 non-null  int64  \n",
      " 6   Height          76840 non-null  float64\n",
      "dtypes: float64(1), int64(3), object(3)\n",
      "memory usage: 4.1+ MB\n"
     ]
    }
   ],
   "source": [
    "pnad_dtset.info()"
   ]
  },
  {
   "cell_type": "code",
   "execution_count": 10,
   "metadata": {},
   "outputs": [
    {
     "data": {
      "text/html": [
       "<div>\n",
       "<style scoped>\n",
       "    .dataframe tbody tr th:only-of-type {\n",
       "        vertical-align: middle;\n",
       "    }\n",
       "\n",
       "    .dataframe tbody tr th {\n",
       "        vertical-align: top;\n",
       "    }\n",
       "\n",
       "    .dataframe thead th {\n",
       "        text-align: right;\n",
       "    }\n",
       "</style>\n",
       "<table border=\"1\" class=\"dataframe\">\n",
       "  <thead>\n",
       "    <tr style=\"text-align: right;\">\n",
       "      <th></th>\n",
       "      <th>State</th>\n",
       "      <th>Sex</th>\n",
       "      <th>Age</th>\n",
       "      <th>Color</th>\n",
       "      <th>Years_of_study</th>\n",
       "      <th>Income</th>\n",
       "      <th>Height</th>\n",
       "    </tr>\n",
       "  </thead>\n",
       "  <tbody>\n",
       "    <tr>\n",
       "      <th>42</th>\n",
       "      <td>Rondônia</td>\n",
       "      <td>Male</td>\n",
       "      <td>63</td>\n",
       "      <td>Brown</td>\n",
       "      <td>5</td>\n",
       "      <td>0</td>\n",
       "      <td>1.65</td>\n",
       "    </tr>\n",
       "    <tr>\n",
       "      <th>68</th>\n",
       "      <td>Rondônia</td>\n",
       "      <td>Male</td>\n",
       "      <td>73</td>\n",
       "      <td>Brown</td>\n",
       "      <td>0</td>\n",
       "      <td>0</td>\n",
       "      <td>1.80</td>\n",
       "    </tr>\n",
       "    <tr>\n",
       "      <th>130</th>\n",
       "      <td>Rondônia</td>\n",
       "      <td>Male</td>\n",
       "      <td>69</td>\n",
       "      <td>White</td>\n",
       "      <td>8</td>\n",
       "      <td>0</td>\n",
       "      <td>1.61</td>\n",
       "    </tr>\n",
       "    <tr>\n",
       "      <th>171</th>\n",
       "      <td>Rondônia</td>\n",
       "      <td>Male</td>\n",
       "      <td>79</td>\n",
       "      <td>White</td>\n",
       "      <td>11</td>\n",
       "      <td>0</td>\n",
       "      <td>1.79</td>\n",
       "    </tr>\n",
       "    <tr>\n",
       "      <th>223</th>\n",
       "      <td>Rondônia</td>\n",
       "      <td>Male</td>\n",
       "      <td>60</td>\n",
       "      <td>Brown</td>\n",
       "      <td>8</td>\n",
       "      <td>0</td>\n",
       "      <td>1.72</td>\n",
       "    </tr>\n",
       "    <tr>\n",
       "      <th>...</th>\n",
       "      <td>...</td>\n",
       "      <td>...</td>\n",
       "      <td>...</td>\n",
       "      <td>...</td>\n",
       "      <td>...</td>\n",
       "      <td>...</td>\n",
       "      <td>...</td>\n",
       "    </tr>\n",
       "    <tr>\n",
       "      <th>75783</th>\n",
       "      <td>Distrito Federal</td>\n",
       "      <td>Male</td>\n",
       "      <td>53</td>\n",
       "      <td>Brown</td>\n",
       "      <td>2</td>\n",
       "      <td>0</td>\n",
       "      <td>1.62</td>\n",
       "    </tr>\n",
       "    <tr>\n",
       "      <th>75789</th>\n",
       "      <td>Distrito Federal</td>\n",
       "      <td>Male</td>\n",
       "      <td>61</td>\n",
       "      <td>Brown</td>\n",
       "      <td>11</td>\n",
       "      <td>0</td>\n",
       "      <td>1.66</td>\n",
       "    </tr>\n",
       "    <tr>\n",
       "      <th>75793</th>\n",
       "      <td>Distrito Federal</td>\n",
       "      <td>Male</td>\n",
       "      <td>55</td>\n",
       "      <td>White</td>\n",
       "      <td>4</td>\n",
       "      <td>0</td>\n",
       "      <td>1.63</td>\n",
       "    </tr>\n",
       "    <tr>\n",
       "      <th>76239</th>\n",
       "      <td>Distrito Federal</td>\n",
       "      <td>Male</td>\n",
       "      <td>33</td>\n",
       "      <td>White</td>\n",
       "      <td>11</td>\n",
       "      <td>0</td>\n",
       "      <td>1.72</td>\n",
       "    </tr>\n",
       "    <tr>\n",
       "      <th>76261</th>\n",
       "      <td>Distrito Federal</td>\n",
       "      <td>Female</td>\n",
       "      <td>31</td>\n",
       "      <td>Brown</td>\n",
       "      <td>13</td>\n",
       "      <td>0</td>\n",
       "      <td>1.72</td>\n",
       "    </tr>\n",
       "  </tbody>\n",
       "</table>\n",
       "<p>2867 rows × 7 columns</p>\n",
       "</div>"
      ],
      "text/plain": [
       "                  State     Sex  Age  Color  Years_of_study  Income  Height\n",
       "42             Rondônia    Male   63  Brown               5       0    1.65\n",
       "68             Rondônia    Male   73  Brown               0       0    1.80\n",
       "130            Rondônia    Male   69  White               8       0    1.61\n",
       "171            Rondônia    Male   79  White              11       0    1.79\n",
       "223            Rondônia    Male   60  Brown               8       0    1.72\n",
       "...                 ...     ...  ...    ...             ...     ...     ...\n",
       "75783  Distrito Federal    Male   53  Brown               2       0    1.62\n",
       "75789  Distrito Federal    Male   61  Brown              11       0    1.66\n",
       "75793  Distrito Federal    Male   55  White               4       0    1.63\n",
       "76239  Distrito Federal    Male   33  White              11       0    1.72\n",
       "76261  Distrito Federal  Female   31  Brown              13       0    1.72\n",
       "\n",
       "[2867 rows x 7 columns]"
      ]
     },
     "execution_count": 10,
     "metadata": {},
     "output_type": "execute_result"
    }
   ],
   "source": [
    "pnad_dtset.loc[pnad_dtset['Income'] == 0]"
   ]
  },
  {
   "cell_type": "markdown",
   "metadata": {},
   "source": [
    "## Ajustando alguns valores"
   ]
  },
  {
   "cell_type": "code",
   "execution_count": 11,
   "metadata": {},
   "outputs": [
    {
     "data": {
      "text/plain": [
       "array(['Male', 'Female'], dtype=object)"
      ]
     },
     "execution_count": 11,
     "metadata": {},
     "output_type": "execute_result"
    }
   ],
   "source": [
    "pnad_dtset['Sex'].unique()"
   ]
  },
  {
   "cell_type": "markdown",
   "metadata": {},
   "source": [
    "* Categoriazando cada sexo para um valor numérico correspondente sendo 0 para 'Male' e 1 para 'Female'."
   ]
  },
  {
   "cell_type": "code",
   "execution_count": 12,
   "metadata": {},
   "outputs": [],
   "source": [
    "#Dicionaŕio usado para referêcnai\n",
    "\n",
    "label_sexo = dict({\n",
    "    'Male':0,\n",
    "    'Female':1\n",
    "})\n",
    "\n",
    "#Se o dicionário de Label possui +1 chave é interessante usar 'map' para ser mais eficiente\n",
    "# src = https://stackoverflow.com/questions/20250771/remap-values-in-pandas-column-with-a-dict-preserve-nans\n",
    "pnad_dtset['Sex'] = pnad_dtset['Sex'].map(label_sexo)"
   ]
  },
  {
   "cell_type": "code",
   "execution_count": 13,
   "metadata": {},
   "outputs": [
    {
     "data": {
      "text/plain": [
       "0    0\n",
       "1    1\n",
       "2    1\n",
       "3    0\n",
       "4    1\n",
       "Name: Sex, dtype: int64"
      ]
     },
     "execution_count": 13,
     "metadata": {},
     "output_type": "execute_result"
    }
   ],
   "source": [
    "pnad_dtset['Sex'].head()"
   ]
  },
  {
   "cell_type": "markdown",
   "metadata": {},
   "source": [
    "* Categorizando coluna 'Color'"
   ]
  },
  {
   "cell_type": "code",
   "execution_count": 14,
   "metadata": {},
   "outputs": [
    {
     "data": {
      "text/plain": [
       "array(['Brown', 'White', 'Black', 'Yellow', 'Indigenous'], dtype=object)"
      ]
     },
     "execution_count": 14,
     "metadata": {},
     "output_type": "execute_result"
    }
   ],
   "source": [
    "pnad_dtset['Color'].unique()\n"
   ]
  },
  {
   "cell_type": "code",
   "execution_count": 15,
   "metadata": {},
   "outputs": [
    {
     "name": "stdout",
     "output_type": "stream",
     "text": [
      "{'Brown': 0, 'White': 1, 'Black': 2, 'Yellow': 3, 'Indigenous': 4}\n"
     ]
    }
   ],
   "source": [
    "\n",
    "label_color = dict() \n",
    "\n",
    "for elem in pnad_dtset['Color'].unique():\n",
    "    if elem not in label_color.keys():\n",
    "        label_color[elem] = label_color.__len__()\n",
    "\n",
    "print(label_color)\n"
   ]
  },
  {
   "cell_type": "code",
   "execution_count": 16,
   "metadata": {},
   "outputs": [
    {
     "data": {
      "text/plain": [
       "0    0\n",
       "1    1\n",
       "2    0\n",
       "3    1\n",
       "4    0\n",
       "Name: Color, dtype: int64"
      ]
     },
     "execution_count": 16,
     "metadata": {},
     "output_type": "execute_result"
    }
   ],
   "source": [
    "#Aplicando alterações no dataframe.\n",
    "\n",
    "pnad_dtset['Color'] = pnad_dtset['Color'].map(label_color)\n",
    "\n",
    "pnad_dtset['Color'].head()"
   ]
  },
  {
   "cell_type": "markdown",
   "metadata": {},
   "source": [
    "# Ditribuição de Frequência\n"
   ]
  },
  {
   "cell_type": "markdown",
   "metadata": {},
   "source": [
    "* Inicialmente para variáveis QUALITATIVAS\n"
   ]
  },
  {
   "cell_type": "code",
   "execution_count": 17,
   "metadata": {},
   "outputs": [
    {
     "data": {
      "text/plain": [
       "Index(['State', 'Sex', 'Age', 'Color', 'Years_of_study', 'Income', 'Height'], dtype='object')"
      ]
     },
     "execution_count": 17,
     "metadata": {},
     "output_type": "execute_result"
    }
   ],
   "source": [
    "pnad_dtset.columns"
   ]
  },
  {
   "cell_type": "code",
   "execution_count": 18,
   "metadata": {},
   "outputs": [
    {
     "name": "stdout",
     "output_type": "stream",
     "text": [
      "Sex\n",
      "0    53250\n",
      "1    23590\n",
      "Name: count, dtype: int64\n",
      "|||||||||||||||||\n",
      "State\n",
      "São Paulo              8544\n",
      "Minas Gerais           7686\n",
      "Rio Grande do Sul      6322\n",
      "Bahia                  5717\n",
      "Rio de Janeiro         5556\n",
      "Pará                   4449\n",
      "Paraná                 4356\n",
      "Pernambuco             3820\n",
      "Goiás                  3478\n",
      "Ceará                  3359\n",
      "Santa Catarina         2275\n",
      "Amazonas               2206\n",
      "Distrito Federal       2054\n",
      "Mato Grosso            1800\n",
      "Maranhão               1787\n",
      "Rondônia               1537\n",
      "Espírito Santo         1511\n",
      "Mato Grosso do Sul     1440\n",
      "Tocantins              1306\n",
      "Sergipe                1287\n",
      "Paraíba                1274\n",
      "Piauí                  1211\n",
      "Rio Grande do Norte     973\n",
      "Acre                    937\n",
      "Alagoas                 903\n",
      "Roraima                 540\n",
      "Amapá                   512\n",
      "Name: count, dtype: int64\n",
      "|||||||||||||||||\n",
      "Color\n",
      "0    35925\n",
      "1    31815\n",
      "2     8391\n",
      "4      357\n",
      "3      352\n",
      "Name: count, dtype: int64\n",
      "|||||||||||||||||\n"
     ]
    }
   ],
   "source": [
    "#Do dataset temos como colunas qualitativas = Sex, State, Color\n",
    "\n",
    "qualitative_columns = ['Sex', 'State', 'Color']\n",
    "\n",
    "for coluna in qualitative_columns:\n",
    "    print(pnad_dtset[coluna].value_counts())\n",
    "    print(\"|||||||||||||||||\")"
   ]
  },
  {
   "cell_type": "code",
   "execution_count": 19,
   "metadata": {},
   "outputs": [
    {
     "name": "stdout",
     "output_type": "stream",
     "text": [
      "Sex\n",
      "0    69.299844\n",
      "1    30.700156\n",
      "Name: proportion, dtype: float64\n",
      "|||||||||||||||||\n",
      "State\n",
      "São Paulo              11.119209\n",
      "Minas Gerais           10.002603\n",
      "Rio Grande do Sul       8.227486\n",
      "Bahia                   7.440135\n",
      "Rio de Janeiro          7.230609\n",
      "Pará                    5.789953\n",
      "Paraná                  5.668922\n",
      "Pernambuco              4.971369\n",
      "Goiás                   4.526288\n",
      "Ceará                   4.371421\n",
      "Santa Catarina          2.960698\n",
      "Amazonas                2.870901\n",
      "Distrito Federal        2.673087\n",
      "Mato Grosso             2.342530\n",
      "Maranhão                2.325612\n",
      "Rondônia                2.000260\n",
      "Espírito Santo          1.966424\n",
      "Mato Grosso do Sul      1.874024\n",
      "Tocantins               1.699636\n",
      "Sergipe                 1.674909\n",
      "Paraíba                 1.657991\n",
      "Piauí                   1.576002\n",
      "Rio Grande do Norte     1.266268\n",
      "Acre                    1.219417\n",
      "Alagoas                 1.175169\n",
      "Roraima                 0.702759\n",
      "Amapá                   0.666320\n",
      "Name: proportion, dtype: float64\n",
      "|||||||||||||||||\n",
      "Color\n",
      "0    46.752993\n",
      "1    41.404217\n",
      "2    10.920094\n",
      "4     0.464602\n",
      "3     0.458095\n",
      "Name: proportion, dtype: float64\n",
      "|||||||||||||||||\n"
     ]
    }
   ],
   "source": [
    "#Podemos colocar cada valor em porcetagem com o 'normalize'\n",
    "\n",
    "for coluna in qualitative_columns:\n",
    "    print(f\"{pnad_dtset[coluna].value_counts(normalize=True)*100}\")\n",
    "    print(\"|||||||||||||||||\")"
   ]
  },
  {
   "cell_type": "markdown",
   "metadata": {},
   "source": [
    "* Tornando visualização mais direta"
   ]
  },
  {
   "cell_type": "code",
   "execution_count": 20,
   "metadata": {},
   "outputs": [],
   "source": [
    "#Salvando a frequência e porcetagem de cada valor na coluna Color\n",
    "\n",
    "frequencia_Color = pnad_dtset['Color'].value_counts()\n",
    "porcentagem = pnad_dtset['Color'].value_counts(normalize=True)*100"
   ]
  },
  {
   "cell_type": "code",
   "execution_count": 21,
   "metadata": {},
   "outputs": [],
   "source": [
    "distribuicao_color = pd.DataFrame({'Frequência': frequencia_Color, 'Porcentagem': porcentagem})"
   ]
  },
  {
   "cell_type": "code",
   "execution_count": 22,
   "metadata": {},
   "outputs": [
    {
     "data": {
      "text/html": [
       "<div>\n",
       "<style scoped>\n",
       "    .dataframe tbody tr th:only-of-type {\n",
       "        vertical-align: middle;\n",
       "    }\n",
       "\n",
       "    .dataframe tbody tr th {\n",
       "        vertical-align: top;\n",
       "    }\n",
       "\n",
       "    .dataframe thead th {\n",
       "        text-align: right;\n",
       "    }\n",
       "</style>\n",
       "<table border=\"1\" class=\"dataframe\">\n",
       "  <thead>\n",
       "    <tr style=\"text-align: right;\">\n",
       "      <th></th>\n",
       "      <th>Frequência</th>\n",
       "      <th>Porcentagem</th>\n",
       "    </tr>\n",
       "    <tr>\n",
       "      <th>Color</th>\n",
       "      <th></th>\n",
       "      <th></th>\n",
       "    </tr>\n",
       "  </thead>\n",
       "  <tbody>\n",
       "    <tr>\n",
       "      <th>0</th>\n",
       "      <td>35925</td>\n",
       "      <td>46.752993</td>\n",
       "    </tr>\n",
       "    <tr>\n",
       "      <th>1</th>\n",
       "      <td>31815</td>\n",
       "      <td>41.404217</td>\n",
       "    </tr>\n",
       "    <tr>\n",
       "      <th>2</th>\n",
       "      <td>8391</td>\n",
       "      <td>10.920094</td>\n",
       "    </tr>\n",
       "    <tr>\n",
       "      <th>4</th>\n",
       "      <td>357</td>\n",
       "      <td>0.464602</td>\n",
       "    </tr>\n",
       "    <tr>\n",
       "      <th>3</th>\n",
       "      <td>352</td>\n",
       "      <td>0.458095</td>\n",
       "    </tr>\n",
       "  </tbody>\n",
       "</table>\n",
       "</div>"
      ],
      "text/plain": [
       "       Frequência  Porcentagem\n",
       "Color                         \n",
       "0           35925    46.752993\n",
       "1           31815    41.404217\n",
       "2            8391    10.920094\n",
       "4             357     0.464602\n",
       "3             352     0.458095"
      ]
     },
     "execution_count": 22,
     "metadata": {},
     "output_type": "execute_result"
    }
   ],
   "source": [
    "distribuicao_color.head()"
   ]
  },
  {
   "cell_type": "markdown",
   "metadata": {},
   "source": [
    "* Para a visualização não é muito intuitivo mantermos 'Color' em valores numéricos"
   ]
  },
  {
   "cell_type": "code",
   "execution_count": 23,
   "metadata": {},
   "outputs": [],
   "source": [
    "# Importante = Sempre trabalhar com cópias\n",
    "label_color_decoder = dict({\n",
    "    0: 'Brown',\n",
    "    1: 'White',\n",
    "    2: 'Black',\n",
    "    3: 'Yellow',\n",
    "    4: 'Indigenous'\n",
    "})\n",
    "distribuicao_color.rename(index=label_color_decoder, inplace=True)"
   ]
  },
  {
   "cell_type": "code",
   "execution_count": 24,
   "metadata": {},
   "outputs": [
    {
     "data": {
      "text/html": [
       "<div>\n",
       "<style scoped>\n",
       "    .dataframe tbody tr th:only-of-type {\n",
       "        vertical-align: middle;\n",
       "    }\n",
       "\n",
       "    .dataframe tbody tr th {\n",
       "        vertical-align: top;\n",
       "    }\n",
       "\n",
       "    .dataframe thead th {\n",
       "        text-align: right;\n",
       "    }\n",
       "</style>\n",
       "<table border=\"1\" class=\"dataframe\">\n",
       "  <thead>\n",
       "    <tr style=\"text-align: right;\">\n",
       "      <th></th>\n",
       "      <th>Frequência</th>\n",
       "      <th>Porcentagem</th>\n",
       "    </tr>\n",
       "    <tr>\n",
       "      <th>Color</th>\n",
       "      <th></th>\n",
       "      <th></th>\n",
       "    </tr>\n",
       "  </thead>\n",
       "  <tbody>\n",
       "    <tr>\n",
       "      <th>Brown</th>\n",
       "      <td>35925</td>\n",
       "      <td>46.752993</td>\n",
       "    </tr>\n",
       "    <tr>\n",
       "      <th>White</th>\n",
       "      <td>31815</td>\n",
       "      <td>41.404217</td>\n",
       "    </tr>\n",
       "    <tr>\n",
       "      <th>Black</th>\n",
       "      <td>8391</td>\n",
       "      <td>10.920094</td>\n",
       "    </tr>\n",
       "    <tr>\n",
       "      <th>Indigenous</th>\n",
       "      <td>357</td>\n",
       "      <td>0.464602</td>\n",
       "    </tr>\n",
       "    <tr>\n",
       "      <th>Yellow</th>\n",
       "      <td>352</td>\n",
       "      <td>0.458095</td>\n",
       "    </tr>\n",
       "  </tbody>\n",
       "</table>\n",
       "</div>"
      ],
      "text/plain": [
       "            Frequência  Porcentagem\n",
       "Color                              \n",
       "Brown            35925    46.752993\n",
       "White            31815    41.404217\n",
       "Black             8391    10.920094\n",
       "Indigenous         357     0.464602\n",
       "Yellow             352     0.458095"
      ]
     },
     "execution_count": 24,
     "metadata": {},
     "output_type": "execute_result"
    }
   ],
   "source": [
    "\n",
    "distribuicao_color.head()\n"
   ]
  },
  {
   "cell_type": "markdown",
   "metadata": {},
   "source": [
    "* Utilizando Cross tab"
   ]
  },
  {
   "cell_type": "code",
   "execution_count": 37,
   "metadata": {},
   "outputs": [
    {
     "data": {
      "text/html": [
       "<div>\n",
       "<style scoped>\n",
       "    .dataframe tbody tr th:only-of-type {\n",
       "        vertical-align: middle;\n",
       "    }\n",
       "\n",
       "    .dataframe tbody tr th {\n",
       "        vertical-align: top;\n",
       "    }\n",
       "\n",
       "    .dataframe thead th {\n",
       "        text-align: right;\n",
       "    }\n",
       "</style>\n",
       "<table border=\"1\" class=\"dataframe\">\n",
       "  <thead>\n",
       "    <tr style=\"text-align: right;\">\n",
       "      <th>Color</th>\n",
       "      <th>0</th>\n",
       "      <th>1</th>\n",
       "      <th>2</th>\n",
       "      <th>3</th>\n",
       "      <th>4</th>\n",
       "    </tr>\n",
       "    <tr>\n",
       "      <th>Sex</th>\n",
       "      <th></th>\n",
       "      <th></th>\n",
       "      <th></th>\n",
       "      <th></th>\n",
       "      <th></th>\n",
       "    </tr>\n",
       "  </thead>\n",
       "  <tbody>\n",
       "    <tr>\n",
       "      <th>0</th>\n",
       "      <td>1659.577425</td>\n",
       "      <td>2925.744435</td>\n",
       "      <td>1603.861687</td>\n",
       "      <td>4758.251064</td>\n",
       "      <td>1081.710938</td>\n",
       "    </tr>\n",
       "    <tr>\n",
       "      <th>1</th>\n",
       "      <td>1176.758516</td>\n",
       "      <td>2109.866750</td>\n",
       "      <td>1134.596400</td>\n",
       "      <td>3027.341880</td>\n",
       "      <td>2464.386139</td>\n",
       "    </tr>\n",
       "  </tbody>\n",
       "</table>\n",
       "</div>"
      ],
      "text/plain": [
       "Color            0            1            2            3            4\n",
       "Sex                                                                   \n",
       "0      1659.577425  2925.744435  1603.861687  4758.251064  1081.710938\n",
       "1      1176.758516  2109.866750  1134.596400  3027.341880  2464.386139"
      ]
     },
     "execution_count": 37,
     "metadata": {},
     "output_type": "execute_result"
    }
   ],
   "source": [
    "#freq_Color_Sex = pd.crosstab(pnad_dtset['Sex'], pnad_dtset['Color'])\n",
    "\n",
    "#Adicionando a média de renda \n",
    "\n",
    "freq_Color_Sex = pd.crosstab(pnad_dtset['Sex'], pnad_dtset['Color'], aggfunc='mean', values=pnad_dtset['Income'])\n",
    "\n",
    "\n",
    "freq_Color_Sex"
   ]
  },
  {
   "cell_type": "code",
   "execution_count": 38,
   "metadata": {},
   "outputs": [
    {
     "data": {
      "text/html": [
       "<div>\n",
       "<style scoped>\n",
       "    .dataframe tbody tr th:only-of-type {\n",
       "        vertical-align: middle;\n",
       "    }\n",
       "\n",
       "    .dataframe tbody tr th {\n",
       "        vertical-align: top;\n",
       "    }\n",
       "\n",
       "    .dataframe thead th {\n",
       "        text-align: right;\n",
       "    }\n",
       "</style>\n",
       "<table border=\"1\" class=\"dataframe\">\n",
       "  <thead>\n",
       "    <tr style=\"text-align: right;\">\n",
       "      <th>Color</th>\n",
       "      <th>Brown</th>\n",
       "      <th>White</th>\n",
       "      <th>Black</th>\n",
       "      <th>Yellow</th>\n",
       "      <th>Indigenous</th>\n",
       "    </tr>\n",
       "    <tr>\n",
       "      <th>Sex</th>\n",
       "      <th></th>\n",
       "      <th></th>\n",
       "      <th></th>\n",
       "      <th></th>\n",
       "      <th></th>\n",
       "    </tr>\n",
       "  </thead>\n",
       "  <tbody>\n",
       "    <tr>\n",
       "      <th>Male</th>\n",
       "      <td>1659.577425</td>\n",
       "      <td>2925.744435</td>\n",
       "      <td>1603.861687</td>\n",
       "      <td>4758.251064</td>\n",
       "      <td>1081.710938</td>\n",
       "    </tr>\n",
       "    <tr>\n",
       "      <th>Female</th>\n",
       "      <td>1176.758516</td>\n",
       "      <td>2109.866750</td>\n",
       "      <td>1134.596400</td>\n",
       "      <td>3027.341880</td>\n",
       "      <td>2464.386139</td>\n",
       "    </tr>\n",
       "  </tbody>\n",
       "</table>\n",
       "</div>"
      ],
      "text/plain": [
       "Color         Brown        White        Black       Yellow   Indigenous\n",
       "Sex                                                                    \n",
       "Male    1659.577425  2925.744435  1603.861687  4758.251064  1081.710938\n",
       "Female  1176.758516  2109.866750  1134.596400  3027.341880  2464.386139"
      ]
     },
     "execution_count": 38,
     "metadata": {},
     "output_type": "execute_result"
    }
   ],
   "source": [
    "label_sex_decoder = dict({\n",
    "    0: 'Male',\n",
    "    1: 'Female'\n",
    "})\n",
    "\n",
    "freq_Color_Sex.rename(index=label_sex_decoder, inplace=True)\n",
    "freq_Color_Sex.rename(columns=label_color_decoder, inplace=True)\n",
    "\n",
    "freq_Color_Sex"
   ]
  },
  {
   "cell_type": "markdown",
   "metadata": {},
   "source": [
    "## Distribuição de variáveis QUANTITATIVAS\n"
   ]
  },
  {
   "cell_type": "markdown",
   "metadata": {},
   "source": [
    "* A distribuição de renda vai ser de acordo com a quantidade de salários minimos.\n",
    "\n",
    "\n",
    "1. Classe E = 2 SM\n",
    "2. Classe D = 2SM a 4SM\n",
    "3. Classe C = 4 a 10 SM\n",
    "4. Classe B = 10 a 20SM\n",
    "5. CLasse A = Acima de 20SM\n",
    "\n",
    "1 SM = 788,00 R$"
   ]
  },
  {
   "cell_type": "code",
   "execution_count": 46,
   "metadata": {},
   "outputs": [
    {
     "data": {
      "text/plain": [
       "0"
      ]
     },
     "execution_count": 46,
     "metadata": {},
     "output_type": "execute_result"
    }
   ],
   "source": [
    "pnad_dtset['Income'].min()"
   ]
  },
  {
   "cell_type": "code",
   "execution_count": 47,
   "metadata": {},
   "outputs": [
    {
     "data": {
      "text/plain": [
       "200000"
      ]
     },
     "execution_count": 47,
     "metadata": {},
     "output_type": "execute_result"
    }
   ],
   "source": [
    "pnad_dtset['Income'].max()"
   ]
  },
  {
   "cell_type": "code",
   "execution_count": 41,
   "metadata": {},
   "outputs": [
    {
     "data": {
      "text/plain": [
       "[0, 1576.0, 3152.0, 7880.0, 15760.0, 15761.0]"
      ]
     },
     "execution_count": 41,
     "metadata": {},
     "output_type": "execute_result"
    }
   ],
   "source": [
    "#Lista contendo os limites min e max de cada classe\n",
    "\n",
    "#0 menor valor de salário para a classe E\n",
    "list_rendas = [0, (788.00*2), (788.00*4), (788.00*10), (788.00*20), (788.00*20)+1]\n",
    "\n",
    "list_rendas\n"
   ]
  },
  {
   "cell_type": "markdown",
   "metadata": {},
   "source": [
    "* https://pandas.pydata.org/docs/reference/api/pandas.cut.html\n",
    "\n",
    "A função cut vai permitir categorizar as rendas de acordo com o cálculo feito a cima além de plicarmos labels as mesmas"
   ]
  },
  {
   "cell_type": "code",
   "execution_count": 45,
   "metadata": {},
   "outputs": [
    {
     "data": {
      "text/plain": [
       "Income\n",
       "E    65.263586\n",
       "D    21.905374\n",
       "C     9.967601\n",
       "B     2.856881\n",
       "A     0.006558\n",
       "Name: proportion, dtype: float64"
      ]
     },
     "execution_count": 45,
     "metadata": {},
     "output_type": "execute_result"
    }
   ],
   "source": [
    "#Lista de labels para as classes\n",
    "list_labels = ['E', 'D', 'C', 'B', 'A']\n",
    "\n",
    "#Include_lowest é necessário pois no dataset há pessoas com rendas == 0\n",
    "pd.cut(x=pnad_dtset['Income'], bins=list_rendas, labels=list_labels, include_lowest=True).value_counts(normalize=True)*100"
   ]
  },
  {
   "cell_type": "markdown",
   "metadata": {},
   "source": [
    "* Com a análise feita a cima podemos ver que >50% dos participantes fazem parte da classe E"
   ]
  },
  {
   "cell_type": "code",
   "execution_count": null,
   "metadata": {},
   "outputs": [],
   "source": []
  }
 ],
 "metadata": {
  "kernelspec": {
   "display_name": "Pandas_Learning",
   "language": "python",
   "name": "python3"
  },
  "language_info": {
   "codemirror_mode": {
    "name": "ipython",
    "version": 3
   },
   "file_extension": ".py",
   "mimetype": "text/x-python",
   "name": "python",
   "nbconvert_exporter": "python",
   "pygments_lexer": "ipython3",
   "version": "3.12.4"
  }
 },
 "nbformat": 4,
 "nbformat_minor": 2
}
